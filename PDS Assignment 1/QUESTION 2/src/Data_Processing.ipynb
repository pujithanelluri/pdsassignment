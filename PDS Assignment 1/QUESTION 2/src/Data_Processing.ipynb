{
  "nbformat": 4,
  "nbformat_minor": 0,
  "metadata": {
    "colab": {
      "provenance": [],
      "mount_file_id": "1bZyvW02qciibYLuabETaUibXAe59FyIq",
      "authorship_tag": "ABX9TyP1ZIhpthCT7LkcbyhUeSV0",
      "include_colab_link": true
    },
    "kernelspec": {
      "name": "python3",
      "display_name": "Python 3"
    },
    "language_info": {
      "name": "python"
    }
  },
  "cells": [
    {
      "cell_type": "markdown",
      "metadata": {
        "id": "view-in-github",
        "colab_type": "text"
      },
      "source": [
        "<a href=\"https://colab.research.google.com/github/pujithanelluri/pdsassignment1/blob/main/PDS%20Assignment%201/16345452/QUESTION%202/src/Data_Processing.ipynb\" target=\"_parent\"><img src=\"https://colab.research.google.com/assets/colab-badge.svg\" alt=\"Open In Colab\"/></a>"
      ]
    },
    {
      "cell_type": "code",
      "execution_count": 1,
      "metadata": {
        "id": "FpL-3kiowbf4"
      },
      "outputs": [],
      "source": [
        "#importing packages\n",
        "import pandas as pd\n",
        "file_path = '/content/drive/Othercomputers/PDS Assignment 1/16345452/QUESTION 2/Stage 1 (Raw_Data)/StudentsPerformance.csv'\n",
        "#Using the read_csv() function to read the CSV file into a DataFrame.\n",
        "df = pd.read_csv('/content/drive/Othercomputers/PDS Assignment 1/16345452/QUESTION 2/Stage 1 (Raw_Data)/StudentsPerformance.csv')\n",
        "\n"
      ]
    },
    {
      "cell_type": "code",
      "source": [
        "# Printing the entire DataFrame\n",
        "print(df)"
      ],
      "metadata": {
        "colab": {
          "base_uri": "https://localhost:8080/"
        },
        "id": "pfu0FVIyw8jo",
        "outputId": "95a35834-fdaf-4af4-d036-f0e8341a05db"
      },
      "execution_count": 2,
      "outputs": [
        {
          "output_type": "stream",
          "name": "stdout",
          "text": [
            "     gender race/ethnicity parental level of education         lunch  \\\n",
            "0    female        group B           bachelor's degree      standard   \n",
            "1    female        group C                some college      standard   \n",
            "2    female        group B             master's degree      standard   \n",
            "3      male        group A          associate's degree  free/reduced   \n",
            "4      male        group C                some college      standard   \n",
            "..      ...            ...                         ...           ...   \n",
            "995  female        group E             master's degree      standard   \n",
            "996    male        group C                 high school  free/reduced   \n",
            "997  female        group C                 high school  free/reduced   \n",
            "998  female        group D                some college      standard   \n",
            "999  female        group D                some college  free/reduced   \n",
            "\n",
            "    test preparation course  math score  reading score  writing score  \n",
            "0                      none          72             72             74  \n",
            "1                 completed          69             90             88  \n",
            "2                      none          90             95             93  \n",
            "3                      none          47             57             44  \n",
            "4                      none          76             78             75  \n",
            "..                      ...         ...            ...            ...  \n",
            "995               completed          88             99             95  \n",
            "996                    none          62             55             55  \n",
            "997               completed          59             71             65  \n",
            "998               completed          68             78             77  \n",
            "999                    none          77             86             86  \n",
            "\n",
            "[1000 rows x 8 columns]\n"
          ]
        }
      ]
    },
    {
      "cell_type": "code",
      "source": [],
      "metadata": {
        "id": "SbYHOrb7xB89"
      },
      "execution_count": null,
      "outputs": []
    },
    {
      "cell_type": "code",
      "source": [
        "# Delete a column (e.g., column 'B')\n",
        "column_to_delete = 'lunch'\n",
        "if column_to_delete in df:\n",
        "    df.drop(column_to_delete, axis=1, inplace=True)\n",
        "\n",
        "# Display the DataFrame after deleting the column\n",
        "print(\"\\nDataFrame after deleting the column:\")\n",
        "print(df)"
      ],
      "metadata": {
        "colab": {
          "base_uri": "https://localhost:8080/"
        },
        "id": "kUrcF4DUxUOW",
        "outputId": "12102f4b-4fb4-4580-a3eb-add0fd7212d5"
      },
      "execution_count": 4,
      "outputs": [
        {
          "output_type": "stream",
          "name": "stdout",
          "text": [
            "\n",
            "DataFrame after deleting the column:\n",
            "     gender race/ethnicity parental level of education  \\\n",
            "0    female        group B           bachelor's degree   \n",
            "1    female        group C                some college   \n",
            "2    female        group B             master's degree   \n",
            "3      male        group A          associate's degree   \n",
            "4      male        group C                some college   \n",
            "..      ...            ...                         ...   \n",
            "995  female        group E             master's degree   \n",
            "996    male        group C                 high school   \n",
            "997  female        group C                 high school   \n",
            "998  female        group D                some college   \n",
            "999  female        group D                some college   \n",
            "\n",
            "    test preparation course  math score  reading score  writing score  \n",
            "0                      none          72             72             74  \n",
            "1                 completed          69             90             88  \n",
            "2                      none          90             95             93  \n",
            "3                      none          47             57             44  \n",
            "4                      none          76             78             75  \n",
            "..                      ...         ...            ...            ...  \n",
            "995               completed          88             99             95  \n",
            "996                    none          62             55             55  \n",
            "997               completed          59             71             65  \n",
            "998               completed          68             78             77  \n",
            "999                    none          77             86             86  \n",
            "\n",
            "[1000 rows x 7 columns]\n"
          ]
        }
      ]
    },
    {
      "cell_type": "code",
      "source": [
        "c_d='/content/drive/Othercomputers/PDS Assignment 1/16345452/QUESTION 2/Stage 2(Cleaned_Data)/cleaned_data.csv'"
      ],
      "metadata": {
        "id": "KRp3pEJgyBs8"
      },
      "execution_count": 7,
      "outputs": []
    },
    {
      "cell_type": "code",
      "source": [
        "df.to_csv(c_d, index=False)"
      ],
      "metadata": {
        "id": "MhZPHdbbyIFN"
      },
      "execution_count": 8,
      "outputs": []
    }
  ]
}