{
  "nbformat": 4,
  "nbformat_minor": 0,
  "metadata": {
    "colab": {
      "provenance": [],
      "mount_file_id": "1Ye4xxNcioJzxDoyxF_4ITHvsZKTAshGu",
      "authorship_tag": "ABX9TyOTPz+rAQA3qV6yP0U+ZQ3r",
      "include_colab_link": true
    },
    "kernelspec": {
      "name": "python3",
      "display_name": "Python 3"
    },
    "language_info": {
      "name": "python"
    }
  },
  "cells": [
    {
      "cell_type": "markdown",
      "metadata": {
        "id": "view-in-github",
        "colab_type": "text"
      },
      "source": [
        "<a href=\"https://colab.research.google.com/github/pujithanelluri/pdsassignment1/blob/main/PDS%20Assignment%201/src/Data_Processing.ipynb\" target=\"_parent\"><img src=\"https://colab.research.google.com/assets/colab-badge.svg\" alt=\"Open In Colab\"/></a>"
      ]
    },
    {
      "cell_type": "code",
      "execution_count": 19,
      "metadata": {
        "id": "k2hxFOJa_LW7"
      },
      "outputs": [],
      "source": [
        "#importing packages\n",
        "import pandas as pd\n",
        "file_path = '/content/drive/Othercomputers/My Laptop/PDS Assignment 1/Raw_Data/FRAILTY_RAW_DATA.csv'\n",
        "#Using the read_csv() function to read the CSV file into a DataFrame.\n",
        "df = pd.read_csv('/content/drive/Othercomputers/My Laptop/PDS Assignment 1/Raw_Data/FRAILTY_RAW_DATA.csv')\n",
        "\n"
      ]
    },
    {
      "cell_type": "code",
      "source": [
        "# Printing the entire DataFrame\n",
        "print(df)"
      ],
      "metadata": {
        "colab": {
          "base_uri": "https://localhost:8080/"
        },
        "id": "yx3G_MxYLI1z",
        "outputId": "220f636c-29b0-4bd4-ca69-378524183187"
      },
      "execution_count": 20,
      "outputs": [
        {
          "output_type": "stream",
          "name": "stdout",
          "text": [
            "   Height  Weight  Age  Gripstrength Frailty\n",
            "0    65.8     112   30            30       N\n",
            "1    71.5     136   19            31       N\n",
            "2    69.4     153   45            29       N\n",
            "3    68.2     142   22            28       Y\n",
            "4    67.8     144   29            24       Y\n",
            "5    68.7     123   50            26       N\n",
            "6    69.8     141   51            22       Y\n",
            "7    70.1     136   23            20       Y\n",
            "8    67.9     112   17            19       N\n",
            "9    66.8     120   39            31       N\n"
          ]
        }
      ]
    },
    {
      "cell_type": "code",
      "source": [
        "#\"Frailty\" column contains categorical data (\"Y\" for Yes, \"N\" for No).\n",
        "#converting it into binary variables, such as 1 for \"Yes\" and 0 for \"No,\" to make it suitable for analysis.\n",
        "df['Frailty'] = df['Frailty'].map({'Y': 1, 'N': 0})"
      ],
      "metadata": {
        "id": "y6OVS20QIrdB"
      },
      "execution_count": 21,
      "outputs": []
    },
    {
      "cell_type": "code",
      "source": [
        "print(df)"
      ],
      "metadata": {
        "colab": {
          "base_uri": "https://localhost:8080/"
        },
        "id": "9oXZEuSpJBRH",
        "outputId": "d9f48eb8-0e3b-4c52-9545-6cf10539d0f2"
      },
      "execution_count": 22,
      "outputs": [
        {
          "output_type": "stream",
          "name": "stdout",
          "text": [
            "   Height  Weight  Age  Gripstrength  Frailty\n",
            "0    65.8     112   30            30        0\n",
            "1    71.5     136   19            31        0\n",
            "2    69.4     153   45            29        0\n",
            "3    68.2     142   22            28        1\n",
            "4    67.8     144   29            24        1\n",
            "5    68.7     123   50            26        0\n",
            "6    69.8     141   51            22        1\n",
            "7    70.1     136   23            20        1\n",
            "8    67.9     112   17            19        0\n",
            "9    66.8     120   39            31        0\n"
          ]
        }
      ]
    },
    {
      "cell_type": "code",
      "source": [
        "c_d='/content/drive/Othercomputers/My Laptop/PDS Assignment 1/Cleaned_Data/cleaned_data.csv'"
      ],
      "metadata": {
        "id": "wOVoufPjxl-u"
      },
      "execution_count": 23,
      "outputs": []
    },
    {
      "cell_type": "code",
      "source": [
        "df.to_csv(c_d, index=False)"
      ],
      "metadata": {
        "id": "zJmc1LDXJH3J"
      },
      "execution_count": 24,
      "outputs": []
    }
  ]
}